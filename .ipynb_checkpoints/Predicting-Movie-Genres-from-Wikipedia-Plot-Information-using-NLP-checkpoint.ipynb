{
 "cells": [
  {
   "cell_type": "markdown",
   "metadata": {},
   "source": [
    "https://www.analyticsvidhya.com/blog/2019/04/predicting-movie-genres-nlp-multi-label-classification/\n",
    "\n",
    "1. Clean genres:\n",
    "    Reduce labels\n",
    "    \n",
    "\n",
    "2. Clean up plots:\n",
    "    Remove stopwords\n",
    "    \n",
    "2. Prepare training and test\n",
    "    Create multi label array for Y\n",
    "    Split\n",
    "    \n",
    "3. Logistic regression, OneVsRestClassifier, LinearSVC\n",
    "    Default\n",
    "    Choose best\n",
    "    K-fold\n",
    "    \n",
    "4. Create endpoint for consumption"
   ]
  },
  {
   "cell_type": "code",
   "execution_count": 27,
   "metadata": {},
   "outputs": [],
   "source": [
    "import pandas as pd\n",
    "\n",
    "pd.set_option('display.max_columns', None)"
   ]
  },
  {
   "cell_type": "code",
   "execution_count": 39,
   "metadata": {},
   "outputs": [
    {
     "name": "stdout",
     "output_type": "stream",
     "text": [
      "(81741, 3)\n",
      "(42207, 3)\n"
     ]
    }
   ],
   "source": [
    "df_loaded = pd.read_pickle(r'../CMU pkl file/films.pkl')\n",
    "\n",
    "df_raw = pd.DataFrame([(k, v['genres'], v['summary'],) for k, v in df_loaded.items()],\n",
    "             columns=['ID','GENRES','SUMMARY']\n",
    "            )\n",
    "\n",
    "print(df_raw.shape)\n",
    "\n",
    "df_raw = df_raw[df_raw.SUMMARY != '']\n",
    "\n",
    "print(df_raw.shape)"
   ]
  },
  {
   "cell_type": "code",
   "execution_count": null,
   "metadata": {},
   "outputs": [],
   "source": []
  }
 ],
 "metadata": {
  "kernelspec": {
   "display_name": "Python 3",
   "language": "python",
   "name": "python3"
  },
  "language_info": {
   "codemirror_mode": {
    "name": "ipython",
    "version": 3
   },
   "file_extension": ".py",
   "mimetype": "text/x-python",
   "name": "python",
   "nbconvert_exporter": "python",
   "pygments_lexer": "ipython3",
   "version": "3.6.10"
  }
 },
 "nbformat": 4,
 "nbformat_minor": 2
}
